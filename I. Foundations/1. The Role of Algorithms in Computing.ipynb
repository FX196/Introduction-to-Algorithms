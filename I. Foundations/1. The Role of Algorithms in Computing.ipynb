{
 "cells": [
  {
   "cell_type": "markdown",
   "metadata": {
    "collapsed": true
   },
   "source": [
    "## 1  The Role of Algorithms in Computing"
   ]
  },
  {
   "cell_type": "markdown",
   "metadata": {},
   "source": [
    "###1.1 Algorithms\n",
    "An __algorithm__ is any well defined computational procedure that takes in some __inputs__ and produces some __outputs__. Thus an algorithm is a sequence of steps that transform the input into the output.  \n",
    "  \n",
    "An algorithm can also be viewed as a tool for solving a well-specified __computational problem__. The statement of the problem specifies, in general terms, the desired input/output relationship. Whereas the algorithm would describe the procedure to achieve this relationship.  "
   ]
  },
  {
   "cell_type": "markdown",
   "metadata": {},
   "source": [
    "For example, the __sorting problem__ can be defined as:  \n",
    "__Input:__ A sequence of $n$ numbers $(a_1,a_2,\\ldots,a_n)$  \n",
    "__Output:__ A permutation (reordering) of the input sequence such that for each $i$, $a_i \\leq a_{i+1}$"
   ]
  },
  {
   "cell_type": "code",
   "execution_count": null,
   "metadata": {},
   "outputs": [],
   "source": []
  }
 ],
 "metadata": {
  "kernelspec": {
   "display_name": "Python 3",
   "language": "python",
   "name": "python3"
  },
  "language_info": {
   "codemirror_mode": {
    "name": "ipython",
    "version": 3
   },
   "file_extension": ".py",
   "mimetype": "text/x-python",
   "name": "python",
   "nbconvert_exporter": "python",
   "pygments_lexer": "ipython3",
   "version": "3.7.0"
  }
 },
 "nbformat": 4,
 "nbformat_minor": 1
}
